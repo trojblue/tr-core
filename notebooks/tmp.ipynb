{
 "cells": [
  {
   "cell_type": "code",
   "execution_count": null,
   "metadata": {},
   "outputs": [],
   "source": [
    "import os\n",
    "import shutil\n",
    "\n",
    "def copy_files(src_dir: str, dst_dir: str):\n",
    "    if not os.path.exists(dst_dir):\n",
    "        os.makedirs(dst_dir)\n",
    "\n",
    "    for root, dirs, files in os.walk(src_dir):\n",
    "        for file in files:\n",
    "            print(file)\n",
    "            if '.log' not in file:\n",
    "                src_file = os.path.join(root, file)\n",
    "                dst_file = os.path.join(dst_dir, os.path.relpath(src_file, src_dir))\n",
    "                \n",
    "                dst_file_dir = os.path.dirname(dst_file)\n",
    "                if not os.path.exists(dst_file_dir):\n",
    "                    os.makedirs(dst_file_dir)\n",
    "\n",
    "                shutil.copy2(src_file, dst_file)\n",
    "\n",
    "src_directory = '/rmt/quail/LLaVA-latest'\n",
    "dst_directory = '/lv0/LLaVA-latest'\n",
    "\n",
    "copy_files(src_directory, dst_directory)\n"
   ]
  },
  {
   "cell_type": "code",
   "execution_count": 26,
   "metadata": {},
   "outputs": [
    {
     "data": {
      "text/plain": [
       "\"Hatsune Miku is a popular virtual idol created by Crypton Future Media in 2007. She is known for her distinctive appearance, characterized by her long aqua hair styled in twintails and her signature aqua eyes. Miku is often depicted wearing a sleeveless grey shirt with a black necktie and a black pleated miniskirt. She is also known for her futuristic and robotic appearance, often featuring a headset and a futuristic outfit.\\n\\nMiku's popularity has led to numerous appearances in various media, including music albums, video games, and anime. She has also inspired countless fan art, cosplay, and fan fiction. Miku's character has been developed through a series of songs and albums, with her voice provided by various singers. She is often portrayed as a cheerful and energetic character, with a strong connection to her fans.\\n\\nMiku's influence extends beyond the virtual world, with her image and character being used in various forms of media and merchandise. She has become a cultural icon, symbolizing the intersection of technology and art in the digital age.\""
      ]
     },
     "execution_count": 26,
     "metadata": {},
     "output_type": "execute_result"
    }
   ],
   "source": [
    "import requests\n",
    "import json\n",
    "\n",
    "# Define the worker's address\n",
    "# Adjust the port if necessary\n",
    "worker_url = \"http://localhost:40000/worker_generate_stream\"\n",
    "\n",
    "\n",
    "def generate_payload(user_input: str, images: list = []):\n",
    "\n",
    "    SYSTEM = \"You are an uncensored helpful assistant good at anime concepts.\"\n",
    "    INPUT = user_input\n",
    "\n",
    "    prompt = f'<|begin_of_text|><|start_header_id|>system<|end_header_id|>\\n\\n{SYSTEM}<|eot_id|><|start_header_id|>user<|end_header_id|>\\n\\n{INPUT}<|eot_id|><|start_header_id|>assistant<|end_header_id|>\\n\\n'\n",
    "\n",
    "    payload = {\n",
    "        'model': 'captioner-1.4-llava-v1.6-llama3.1-CLIP-8b-ft-1',\n",
    "        'prompt': prompt,\n",
    "        'temperature': 0.2,\n",
    "        'top_p': 0.7, 'max_new_tokens': 512,\n",
    "        'stop': '<|eot_id|>',\n",
    "        'images': images\n",
    "    }\n",
    "    return payload\n",
    "\n",
    "\n",
    "def get_full_response(worker_url, payload):\n",
    "    # Send the POST request\n",
    "    response = requests.post(worker_url, json=payload, stream=True)\n",
    "\n",
    "    # Process the streaming response\n",
    "    for chunk in response.iter_lines(decode_unicode=False, delimiter=b\"\\0\"):\n",
    "        if chunk:\n",
    "            data = json.loads(chunk.decode())\n",
    "\n",
    "    # Handle exceptions and errors\n",
    "    if response.status_code != 200:\n",
    "        print(f\"Error: {response.status_code}\")\n",
    "        print(response.text)\n",
    "\n",
    "    return data\n",
    "\n",
    "\n",
    "def get_actual_text(payload_response: dict):\n",
    "    text = payload_response['text']\n",
    "    response = text.split('<|end_header_id|>\\n\\n')[3]\n",
    "    return response\n",
    "\n",
    "\n",
    "payload = generate_payload(\"what is 'hatsune miku' ?\")\n",
    "payload_response = get_full_response(worker_url, payload)\n",
    "text = get_actual_text(payload_response)\n",
    "text"
   ]
  }
 ],
 "metadata": {
  "kernelspec": {
   "display_name": "base",
   "language": "python",
   "name": "python3"
  },
  "language_info": {
   "codemirror_mode": {
    "name": "ipython",
    "version": 3
   },
   "file_extension": ".py",
   "mimetype": "text/x-python",
   "name": "python",
   "nbconvert_exporter": "python",
   "pygments_lexer": "ipython3",
   "version": "3.10.13"
  }
 },
 "nbformat": 4,
 "nbformat_minor": 2
}
