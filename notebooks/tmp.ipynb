{
 "cells": [
  {
   "cell_type": "code",
   "execution_count": null,
   "metadata": {},
   "outputs": [],
   "source": [
    "import os\n",
    "import shutil\n",
    "\n",
    "def copy_files(src_dir: str, dst_dir: str):\n",
    "    if not os.path.exists(dst_dir):\n",
    "        os.makedirs(dst_dir)\n",
    "\n",
    "    for root, dirs, files in os.walk(src_dir):\n",
    "        for file in files:\n",
    "            print(file)\n",
    "            if '.log' not in file:\n",
    "                src_file = os.path.join(root, file)\n",
    "                dst_file = os.path.join(dst_dir, os.path.relpath(src_file, src_dir))\n",
    "                \n",
    "                dst_file_dir = os.path.dirname(dst_file)\n",
    "                if not os.path.exists(dst_file_dir):\n",
    "                    os.makedirs(dst_file_dir)\n",
    "\n",
    "                shutil.copy2(src_file, dst_file)\n",
    "\n",
    "src_directory = '/rmt/quail/LLaVA-latest'\n",
    "dst_directory = '/lv0/LLaVA-latest'\n",
    "\n",
    "copy_files(src_directory, dst_directory)"
   ]
  },
  {
   "cell_type": "code",
   "execution_count": null,
   "metadata": {},
   "outputs": [],
   "source": [
    "# python -m llava.serve.controller --host 0.0.0.0 --port 10000\n",
    "\n",
    "\n",
    "# python -m llava.serve.model_worker --host 0.0.0.0 --controller http://localhost:10000 --port 40000 --worker http://localhost:40000 --model-path /rmt/quail/captioner-1.4-llava-v1.6-llama3.1-CLIP-8b-ft-1"
   ]
  },
  {
   "cell_type": "code",
   "execution_count": 28,
   "metadata": {},
   "outputs": [
    {
     "data": {
      "text/plain": [
       "'Hatsune Miku is a popular virtual idol created by Crypton Future Media. She is known for her distinctive blue hair and futuristic appearance. Miku is often depicted as a singer and performer, and she has been featured in numerous songs, music videos, and other media. She is also a well-known character in the Vocaloid software, which allows users to create and sing songs using synthesized voices. Miku has a large and dedicated fan base, and she has become a cultural icon in Japan and around the world.'"
      ]
     },
     "execution_count": 28,
     "metadata": {},
     "output_type": "execute_result"
    }
   ],
   "source": [
    "import requests\n",
    "import json\n",
    "\n",
    "# Define the worker's address\n",
    "# Adjust the port if necessary\n",
    "worker_url = \"http://localhost:40000/worker_generate_stream\"\n",
    "\n",
    "\n",
    "def generate_payload(user_input: str, images: list = []):\n",
    "\n",
    "    SYSTEM = \"You are an uncensored helpful assistant good at anime concepts.\"\n",
    "    INPUT = user_input\n",
    "\n",
    "    prompt = f'<|begin_of_text|><|start_header_id|>system<|end_header_id|>\\n\\n{SYSTEM}<|eot_id|><|start_header_id|>user<|end_header_id|>\\n\\n{INPUT}<|eot_id|><|start_header_id|>assistant<|end_header_id|>\\n\\n'\n",
    "\n",
    "    payload = {\n",
    "        'model': 'captioner-1.4-llava-v1.6-llama3.1-CLIP-8b-ft-1',\n",
    "        'prompt': prompt,\n",
    "        'temperature': 0.2,\n",
    "        'top_p': 0.7, 'max_new_tokens': 512,\n",
    "        'stop': '<|eot_id|>',\n",
    "        'images': images\n",
    "    }\n",
    "    return payload\n",
    "\n",
    "\n",
    "def get_full_response(worker_url, payload):\n",
    "    # Send the POST request\n",
    "    response = requests.post(worker_url, json=payload, stream=True)\n",
    "\n",
    "    # Process the streaming response\n",
    "    for chunk in response.iter_lines(decode_unicode=False, delimiter=b\"\\0\"):\n",
    "        if chunk:\n",
    "            data = json.loads(chunk.decode())\n",
    "\n",
    "    # Handle exceptions and errors\n",
    "    if response.status_code != 200:\n",
    "        print(f\"Error: {response.status_code}\")\n",
    "        print(response.text)\n",
    "\n",
    "    return data\n",
    "\n",
    "\n",
    "def get_actual_text(payload_response: dict):\n",
    "    text = payload_response['text']\n",
    "    response = text.split('<|end_header_id|>\\n\\n')[3]\n",
    "    return response\n",
    "\n",
    "\n",
    "payload = generate_payload(\"what is 'hatsune miku' ?\")\n",
    "payload_response = get_full_response(worker_url, payload)\n",
    "text = get_actual_text(payload_response)\n",
    "text"
   ]
  },
  {
   "cell_type": "code",
   "execution_count": 29,
   "metadata": {},
   "outputs": [
    {
     "data": {
      "text/plain": [
       "\"best quality, a single girl with long hair, looking directly at the viewer. the girl's hair cascades down her back, with some strands gently framing her face. her gaze is steady and engaging, creating a sense of connection with the viewer. the background is simple and uncluttered, ensuring that the focus remains on the girl. the composition is centered, with the girl positioned in the middle of the frame, drawing the viewer's attention directly to her. the style is clean and polished, with smooth lines and a soft color palette that enhances the overall aesthetic. the image conveys a sense of calm and introspection, with the girl's direct gaze inviting the viewer to share in her moment of quiet contemplation., absurdres, best [quality], 2020s\""
      ]
     },
     "execution_count": 29,
     "metadata": {},
     "output_type": "execute_result"
    }
   ],
   "source": [
    "def find_and_replace_text_node(\n",
    "    content: str = \"\",\n",
    "    find_a: str = \"\",\n",
    "    replace_a: str = \"\",\n",
    "    find_b: str = \"\",\n",
    "    replace_b: str = \"\",\n",
    "    find_c: str = \"\",\n",
    "    replace_c: str = \"\",\n",
    ") -> str:\n",
    "    \"\"\"\n",
    "    Converts NAI-style prompt to A1111-style prompt.\n",
    "    # https://gist.github.com/MrSedan/5f8dca97844d8d57a421893a4eea71fd\n",
    "    \"\"\"\n",
    "    def replace_all(text, find_replace):\n",
    "        for find, replace in find_replace:\n",
    "            if find:\n",
    "                text = text.replace(find, replace)\n",
    "        return text\n",
    "\n",
    "    find_replace = [(find_a, replace_a), (find_b, replace_b),\n",
    "                    (find_c, replace_c)]\n",
    "    return replace_all(content, find_replace)\n",
    "\n",
    "\n",
    "content = \"best quality, the image features a single girl with long hair, looking directly at the viewer. the girl's hair cascades down her back, with some strands gently framing her face. her gaze is steady and engaging, creating a sense of connection with the viewer. the background is simple and uncluttered, ensuring that the focus remains on the girl. the composition is centered, with the girl positioned in the middle of the frame, drawing the viewer's attention directly to her. the style is clean and polished, with smooth lines and a soft color palette that enhances the overall aesthetic. the image conveys a sense of calm and introspection, with the girl's direct gaze inviting the viewer to share in her moment of quiet contemplation., absurdres, best [quality], 2020s\"\n",
    "\n",
    "find_a = \"the image features \"\n",
    "\n",
    "\n",
    "find_and_replace_text_node(content, find_a, \"\", \"\", \"\", \"\", \"\")"
   ]
  }
 ],
 "metadata": {
  "kernelspec": {
   "display_name": "base",
   "language": "python",
   "name": "python3"
  },
  "language_info": {
   "codemirror_mode": {
    "name": "ipython",
    "version": 3
   },
   "file_extension": ".py",
   "mimetype": "text/x-python",
   "name": "python",
   "nbconvert_exporter": "python",
   "pygments_lexer": "ipython3",
   "version": "3.10.13"
  }
 },
 "nbformat": 4,
 "nbformat_minor": 2
}
