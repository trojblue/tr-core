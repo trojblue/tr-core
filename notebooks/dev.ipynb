{
 "cells": [
  {
   "cell_type": "code",
   "execution_count": 1,
   "metadata": {},
   "outputs": [],
   "source": [
    "import unibox as ub\n",
    "from tr_core.utils.gradio_utils import gradio_caller, gradio_parser\n",
    "\n",
    "from PIL import Image\n",
    "\n",
    "logger = ub.UniLogger()"
   ]
  },
  {
   "cell_type": "markdown",
   "metadata": {},
   "source": [
    "## Minimum Demo(s)"
   ]
  },
  {
   "cell_type": "markdown",
   "metadata": {},
   "source": [
    "get initial params:"
   ]
  },
  {
   "cell_type": "code",
   "execution_count": 2,
   "metadata": {},
   "outputs": [
    {
     "data": {
      "text/plain": [
       "'https://flag-celebration-manually-pan.trycloudflare.com/'"
      ]
     },
     "metadata": {},
     "output_type": "display_data"
    },
    {
     "data": {
      "text/plain": [
       "{'tags_front': '(best quality:1.8)',\n",
       " 'user_input': 'frederica bernkastel, 1girl',\n",
       " 'tags_back': 'absurdres, best [quality], 2020s',\n",
       " 'num_images': 4,\n",
       " 'seed': -1,\n",
       " 'upscale_prompt': False,\n",
       " 'api_name': '/gradio_inference_2'}"
      ]
     },
     "metadata": {},
     "output_type": "display_data"
    }
   ],
   "source": [
    "code_str = \"\"\"from gradio_client import Client\n",
    "\n",
    "client = Client(\"https://flag-celebration-manually-pan.trycloudflare.com/\")\n",
    "result = client.predict(\n",
    "\t\ttags_front=\"(best quality:1.8)\",\n",
    "\t\tuser_input=\"frederica bernkastel, 1girl\",\n",
    "\t\ttags_back=\"absurdres, best [quality], 2020s\",\n",
    "\t\tnum_images=4,\n",
    "\t\tseed=-1,\n",
    "\t\tupscale_prompt=False,\n",
    "\t\tapi_name=\"/gradio_inference_2\"\n",
    ")\n",
    "print(result)\"\"\"\n",
    "\n",
    "url, args = gradio_parser(code_str)\n",
    "display(url, args)"
   ]
  },
  {
   "cell_type": "code",
   "execution_count": 3,
   "metadata": {},
   "outputs": [
    {
     "name": "stdout",
     "output_type": "stream",
     "text": [
      "Loaded as API: https://flag-celebration-manually-pan.trycloudflare.com/ ✔\n"
     ]
    },
    {
     "data": {
      "text/plain": [
       "('/tmp/gradio/3d08ed6caeb3603758874d1071e6527d9e9ee81e/image.webp',\n",
       " [{'image': '/tmp/gradio/4cdf56445497dce5d45a7df5a021e541734470b8/image.webp',\n",
       "   'caption': None},\n",
       "  {'image': '/tmp/gradio/fa28782fd50e0ab9c061dc77c797bc00dcccb2ae/image.webp',\n",
       "   'caption': None},\n",
       "  {'image': '/tmp/gradio/2b47b76675cb9779e5fb6f55905d78dbdf79a8ba/image.webp',\n",
       "   'caption': None},\n",
       "  {'image': '/tmp/gradio/2691580bcba252deff18d92f1f9cee24f9f74cb8/image.webp',\n",
       "   'caption': None}],\n",
       " '(best quality:1.8), ootori emu, 1girl, absurdres, best [quality], 2020s\\nbxl-v5c-cont53/checkpoint-e1_s28000.safetensors  [20240825-022956]')"
      ]
     },
     "execution_count": 3,
     "metadata": {},
     "output_type": "execute_result"
    }
   ],
   "source": [
    "override_args = {\n",
    "    'user_input': 'ootori emu, 1girl',\n",
    "}\n",
    "\n",
    "gradio_caller(url, args, override_args)"
   ]
  },
  {
   "cell_type": "code",
   "execution_count": 1,
   "metadata": {},
   "outputs": [
    {
     "ename": "NameError",
     "evalue": "name 'gradio_parser' is not defined",
     "output_type": "error",
     "traceback": [
      "\u001b[0;31m---------------------------------------------------------------------------\u001b[0m",
      "\u001b[0;31mNameError\u001b[0m                                 Traceback (most recent call last)",
      "Cell \u001b[0;32mIn[1], line 10\u001b[0m\n\u001b[1;32m      1\u001b[0m code_str \u001b[38;5;241m=\u001b[39m \u001b[38;5;124m\"\"\"\u001b[39m\u001b[38;5;124mfrom gradio_client import Client, handle_file\u001b[39m\n\u001b[1;32m      2\u001b[0m \n\u001b[1;32m      3\u001b[0m \u001b[38;5;124mclient = Client(\u001b[39m\u001b[38;5;124m\"\u001b[39m\u001b[38;5;124mhttps://flag-celebration-manually-pan.trycloudflare.com/\u001b[39m\u001b[38;5;124m\"\u001b[39m\u001b[38;5;124m)\u001b[39m\n\u001b[0;32m   (...)\u001b[0m\n\u001b[1;32m      7\u001b[0m \u001b[38;5;124m)\u001b[39m\n\u001b[1;32m      8\u001b[0m \u001b[38;5;124mprint(result)\u001b[39m\u001b[38;5;124m\"\"\"\u001b[39m\n\u001b[0;32m---> 10\u001b[0m url, args \u001b[38;5;241m=\u001b[39m \u001b[43mgradio_parser\u001b[49m(code_str)\n\u001b[1;32m     11\u001b[0m display(url, args)\n\u001b[1;32m     13\u001b[0m file_url \u001b[38;5;241m=\u001b[39m \u001b[38;5;124m\"\u001b[39m\u001b[38;5;124mhttps://raw.githubusercontent.com/gradio-app/gradio/main/test/test_files/bus.png\u001b[39m\u001b[38;5;124m\"\u001b[39m\n",
      "\u001b[0;31mNameError\u001b[0m: name 'gradio_parser' is not defined"
     ]
    }
   ],
   "source": [
    "code_str = \"\"\"from gradio_client import Client, handle_file\n",
    "\n",
    "client = Client(\"https://flag-celebration-manually-pan.trycloudflare.com/\")\n",
    "result = client.predict(\n",
    "\t\timage=handle_file('https://raw.githubusercontent.com/gradio-app/gradio/main/test/test_files/bus.png'),\n",
    "\t\tapi_name=\"/demo_remove_exif\"\n",
    ")\n",
    "print(result)\"\"\"\n",
    "\n",
    "url, args = gradio_parser(code_str)\n",
    "display(url, args)\n",
    "\n",
    "file_url = \"https://raw.githubusercontent.com/gradio-app/gradio/main/test/test_files/bus.png\"\n",
    "res1 = gradio_caller(url, args, {'image': f\"FILE:{file_url}\"})\n",
    "\n",
    "pil_image = ub.loads(file_url)\n",
    "res2 = gradio_caller(url, args, {'image': pil_image})\n",
    "\n",
    "display(res1, res2)"
   ]
  },
  {
   "cell_type": "markdown",
   "metadata": {},
   "source": [
    "## Continue"
   ]
  },
  {
   "cell_type": "code",
   "execution_count": 2,
   "metadata": {},
   "outputs": [
    {
     "name": "stdout",
     "output_type": "stream",
     "text": [
      "Loaded as API: https://flag-celebration-manually-pan.trycloudflare.com/ ✔\n"
     ]
    },
    {
     "data": {
      "text/plain": [
       "'yoisaki kanade, 1girl, elbow gloves, headphones, sex toy, blue eyes, vibrator, hairband, silver hair, anal object insertion, open mouth, bare shoulders, from above, checkered floor, black legwear, black gloves, small breasts, sitting, looking up, looking at viewer, cum, very long hair, black thighhighs, vibrator under clothes, black leotard, halterneck, thigh gap, hair between eyes, covered nipples, cameltoe, black footwear, arm support, shiny clothes, buckle, projectdiva, r-18, heavenly ass, long gloves, latex, blue hair, butt plug, knee boots, leotard aside, on floor, pigeon-toed, pussy juice, skin tight'"
      ]
     },
     "execution_count": 2,
     "metadata": {},
     "output_type": "execute_result"
    }
   ],
   "source": [
    "import os\n",
    "import json\n",
    "\n",
    "def get_gradio_response_node(code_str:str, overrides:str):\n",
    "    \"\"\"\n",
    "    :param overrides: json string\n",
    "    \"\"\"\n",
    "    url, args = gradio_parser(code_str)\n",
    "\n",
    "    try:\n",
    "        override_args = json.loads(overrides)\n",
    "    except json.JSONDecodeError:\n",
    "        print(\"Invalid json string\")\n",
    "        override_args = {}\n",
    "\n",
    "    raw_res = gradio_caller(url, args, override_args)\n",
    "\n",
    "    if isinstance(raw_res, str) and os.path.isfile(raw_res):\n",
    "        return ub.loads(raw_res)\n",
    "    else:\n",
    "        return raw_res\n",
    "\n",
    "code_str = \"\"\"from gradio_client import Client\n",
    "\n",
    "client = Client(\"https://flag-celebration-manually-pan.trycloudflare.com/\")\n",
    "result = client.predict(\n",
    "\t\tcharacter=\"Hello!!\",\n",
    "\t\tgeneral=\"Hello!!\",\n",
    "\t\trating=\"general\",\n",
    "\t\tbatch_size=1,\n",
    "\t\tapi_name=\"/demo_gpt2_prompt_upscaler\"\n",
    ")\n",
    "print(result)\"\"\"\n",
    "    \n",
    "overrides = {'character': \"yoisaki kanade\", 'general': 'elbow gloves', 'rating': 'explicit'}\n",
    "overrides_str = json.dumps(overrides)\n",
    "\n",
    "get_gradio_response_node(code_str, overrides_str)"
   ]
  }
 ],
 "metadata": {
  "kernelspec": {
   "display_name": "base",
   "language": "python",
   "name": "python3"
  },
  "language_info": {
   "codemirror_mode": {
    "name": "ipython",
    "version": 3
   },
   "file_extension": ".py",
   "mimetype": "text/x-python",
   "name": "python",
   "nbconvert_exporter": "python",
   "pygments_lexer": "ipython3",
   "version": "3.10.13"
  }
 },
 "nbformat": 4,
 "nbformat_minor": 2
}
