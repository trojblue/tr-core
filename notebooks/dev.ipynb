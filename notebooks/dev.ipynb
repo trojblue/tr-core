{
 "cells": [
  {
   "cell_type": "code",
   "execution_count": 1,
   "metadata": {},
   "outputs": [],
   "source": [
    "from tr_core.utils.gradio_utils import gradio_caller, gradio_parser"
   ]
  },
  {
   "cell_type": "markdown",
   "metadata": {},
   "source": [
    "get initial params:"
   ]
  },
  {
   "cell_type": "code",
   "execution_count": 2,
   "metadata": {},
   "outputs": [
    {
     "data": {
      "text/plain": [
       "'https://flag-celebration-manually-pan.trycloudflare.com/'"
      ]
     },
     "metadata": {},
     "output_type": "display_data"
    },
    {
     "data": {
      "text/plain": [
       "{'tags_front': '(best quality:1.8)',\n",
       " 'user_input': 'frederica bernkastel, 1girl',\n",
       " 'tags_back': 'absurdres, best [quality], 2020s',\n",
       " 'num_images': 4,\n",
       " 'seed': -1,\n",
       " 'upscale_prompt': False,\n",
       " 'api_name': '/gradio_inference_2'}"
      ]
     },
     "metadata": {},
     "output_type": "display_data"
    }
   ],
   "source": [
    "code_str = \"\"\"from gradio_client import Client\n",
    "\n",
    "client = Client(\"https://flag-celebration-manually-pan.trycloudflare.com/\")\n",
    "result = client.predict(\n",
    "\t\ttags_front=\"(best quality:1.8)\",\n",
    "\t\tuser_input=\"frederica bernkastel, 1girl\",\n",
    "\t\ttags_back=\"absurdres, best [quality], 2020s\",\n",
    "\t\tnum_images=4,\n",
    "\t\tseed=-1,\n",
    "\t\tupscale_prompt=False,\n",
    "\t\tapi_name=\"/gradio_inference_2\"\n",
    ")\n",
    "print(result)\"\"\"\n",
    "\n",
    "url, args = gradio_parser(code_str)\n",
    "\n",
    "display(url, args)"
   ]
  },
  {
   "cell_type": "code",
   "execution_count": 3,
   "metadata": {},
   "outputs": [
    {
     "name": "stdout",
     "output_type": "stream",
     "text": [
      "Loaded as API: https://flag-celebration-manually-pan.trycloudflare.com/ ✔\n"
     ]
    },
    {
     "data": {
      "text/plain": [
       "('/tmp/gradio/3d08ed6caeb3603758874d1071e6527d9e9ee81e/image.webp',\n",
       " [{'image': '/tmp/gradio/4cdf56445497dce5d45a7df5a021e541734470b8/image.webp',\n",
       "   'caption': None},\n",
       "  {'image': '/tmp/gradio/fa28782fd50e0ab9c061dc77c797bc00dcccb2ae/image.webp',\n",
       "   'caption': None},\n",
       "  {'image': '/tmp/gradio/2b47b76675cb9779e5fb6f55905d78dbdf79a8ba/image.webp',\n",
       "   'caption': None},\n",
       "  {'image': '/tmp/gradio/2691580bcba252deff18d92f1f9cee24f9f74cb8/image.webp',\n",
       "   'caption': None}],\n",
       " '(best quality:1.8), ootori emu, 1girl, absurdres, best [quality], 2020s\\nbxl-v5c-cont53/checkpoint-e1_s28000.safetensors  [20240825-022956]')"
      ]
     },
     "execution_count": 3,
     "metadata": {},
     "output_type": "execute_result"
    }
   ],
   "source": [
    "override_args = {\n",
    "    'user_input': 'ootori emu, 1girl',\n",
    "}\n",
    "\n",
    "gradio_caller(url, args, override_args)"
   ]
  }
 ],
 "metadata": {
  "kernelspec": {
   "display_name": "base",
   "language": "python",
   "name": "python3"
  },
  "language_info": {
   "codemirror_mode": {
    "name": "ipython",
    "version": 3
   },
   "file_extension": ".py",
   "mimetype": "text/x-python",
   "name": "python",
   "nbconvert_exporter": "python",
   "pygments_lexer": "ipython3",
   "version": "3.10.13"
  }
 },
 "nbformat": 4,
 "nbformat_minor": 2
}
