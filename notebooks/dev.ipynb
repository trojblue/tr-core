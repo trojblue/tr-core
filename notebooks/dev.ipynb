{
 "cells": [
  {
   "cell_type": "code",
   "execution_count": 1,
   "metadata": {},
   "outputs": [],
   "source": [
    "import unibox as ub\n",
    "from tr_core.utils.gradio_utils import gradio_caller, gradio_parser\n",
    "\n",
    "from PIL import Image\n",
    "\n",
    "logger = ub.UniLogger()"
   ]
  },
  {
   "cell_type": "markdown",
   "metadata": {},
   "source": [
    "## Minimum Demo(s)"
   ]
  },
  {
   "cell_type": "markdown",
   "metadata": {},
   "source": [
    "get initial params:"
   ]
  },
  {
   "cell_type": "code",
   "execution_count": 2,
   "metadata": {},
   "outputs": [
    {
     "data": {
      "text/plain": [
       "'https://flag-celebration-manually-pan.trycloudflare.com/'"
      ]
     },
     "metadata": {},
     "output_type": "display_data"
    },
    {
     "data": {
      "text/plain": [
       "{'tags_front': '(best quality:1.8)',\n",
       " 'user_input': 'frederica bernkastel, 1girl',\n",
       " 'tags_back': 'absurdres, best [quality], 2020s',\n",
       " 'num_images': 4,\n",
       " 'seed': -1,\n",
       " 'upscale_prompt': False,\n",
       " 'api_name': '/gradio_inference_2'}"
      ]
     },
     "metadata": {},
     "output_type": "display_data"
    }
   ],
   "source": [
    "code_str = \"\"\"from gradio_client import Client\n",
    "\n",
    "client = Client(\"https://flag-celebration-manually-pan.trycloudflare.com/\")\n",
    "result = client.predict(\n",
    "\t\ttags_front=\"(best quality:1.8)\",\n",
    "\t\tuser_input=\"frederica bernkastel, 1girl\",\n",
    "\t\ttags_back=\"absurdres, best [quality], 2020s\",\n",
    "\t\tnum_images=4,\n",
    "\t\tseed=-1,\n",
    "\t\tupscale_prompt=False,\n",
    "\t\tapi_name=\"/gradio_inference_2\"\n",
    ")\n",
    "print(result)\"\"\"\n",
    "\n",
    "url, args = gradio_parser(code_str)\n",
    "display(url, args)"
   ]
  },
  {
   "cell_type": "code",
   "execution_count": 3,
   "metadata": {},
   "outputs": [
    {
     "name": "stdout",
     "output_type": "stream",
     "text": [
      "Loaded as API: https://flag-celebration-manually-pan.trycloudflare.com/ ✔\n"
     ]
    },
    {
     "data": {
      "text/plain": [
       "('/tmp/gradio/3d08ed6caeb3603758874d1071e6527d9e9ee81e/image.webp',\n",
       " [{'image': '/tmp/gradio/4cdf56445497dce5d45a7df5a021e541734470b8/image.webp',\n",
       "   'caption': None},\n",
       "  {'image': '/tmp/gradio/fa28782fd50e0ab9c061dc77c797bc00dcccb2ae/image.webp',\n",
       "   'caption': None},\n",
       "  {'image': '/tmp/gradio/2b47b76675cb9779e5fb6f55905d78dbdf79a8ba/image.webp',\n",
       "   'caption': None},\n",
       "  {'image': '/tmp/gradio/2691580bcba252deff18d92f1f9cee24f9f74cb8/image.webp',\n",
       "   'caption': None}],\n",
       " '(best quality:1.8), ootori emu, 1girl, absurdres, best [quality], 2020s\\nbxl-v5c-cont53/checkpoint-e1_s28000.safetensors  [20240825-022956]')"
      ]
     },
     "execution_count": 3,
     "metadata": {},
     "output_type": "execute_result"
    }
   ],
   "source": [
    "override_args = {\n",
    "    'user_input': 'ootori emu, 1girl',\n",
    "}\n",
    "\n",
    "gradio_caller(url, args, override_args)"
   ]
  },
  {
   "cell_type": "code",
   "execution_count": 1,
   "metadata": {},
   "outputs": [
    {
     "ename": "NameError",
     "evalue": "name 'gradio_parser' is not defined",
     "output_type": "error",
     "traceback": [
      "\u001b[0;31m---------------------------------------------------------------------------\u001b[0m",
      "\u001b[0;31mNameError\u001b[0m                                 Traceback (most recent call last)",
      "Cell \u001b[0;32mIn[1], line 10\u001b[0m\n\u001b[1;32m      1\u001b[0m code_str \u001b[38;5;241m=\u001b[39m \u001b[38;5;124m\"\"\"\u001b[39m\u001b[38;5;124mfrom gradio_client import Client, handle_file\u001b[39m\n\u001b[1;32m      2\u001b[0m \n\u001b[1;32m      3\u001b[0m \u001b[38;5;124mclient = Client(\u001b[39m\u001b[38;5;124m\"\u001b[39m\u001b[38;5;124mhttps://flag-celebration-manually-pan.trycloudflare.com/\u001b[39m\u001b[38;5;124m\"\u001b[39m\u001b[38;5;124m)\u001b[39m\n\u001b[0;32m   (...)\u001b[0m\n\u001b[1;32m      7\u001b[0m \u001b[38;5;124m)\u001b[39m\n\u001b[1;32m      8\u001b[0m \u001b[38;5;124mprint(result)\u001b[39m\u001b[38;5;124m\"\"\"\u001b[39m\n\u001b[0;32m---> 10\u001b[0m url, args \u001b[38;5;241m=\u001b[39m \u001b[43mgradio_parser\u001b[49m(code_str)\n\u001b[1;32m     11\u001b[0m display(url, args)\n\u001b[1;32m     13\u001b[0m file_url \u001b[38;5;241m=\u001b[39m \u001b[38;5;124m\"\u001b[39m\u001b[38;5;124mhttps://raw.githubusercontent.com/gradio-app/gradio/main/test/test_files/bus.png\u001b[39m\u001b[38;5;124m\"\u001b[39m\n",
      "\u001b[0;31mNameError\u001b[0m: name 'gradio_parser' is not defined"
     ]
    }
   ],
   "source": [
    "code_str = \"\"\"from gradio_client import Client, handle_file\n",
    "\n",
    "client = Client(\"https://flag-celebration-manually-pan.trycloudflare.com/\")\n",
    "result = client.predict(\n",
    "\t\timage=handle_file('https://raw.githubusercontent.com/gradio-app/gradio/main/test/test_files/bus.png'),\n",
    "\t\tapi_name=\"/demo_remove_exif\"\n",
    ")\n",
    "print(result)\"\"\"\n",
    "\n",
    "url, args = gradio_parser(code_str)\n",
    "display(url, args)\n",
    "\n",
    "file_url = \"https://raw.githubusercontent.com/gradio-app/gradio/main/test/test_files/bus.png\"\n",
    "res1 = gradio_caller(url, args, {'image': f\"FILE:{file_url}\"})\n",
    "\n",
    "pil_image = ub.loads(file_url)\n",
    "res2 = gradio_caller(url, args, {'image': pil_image})\n",
    "\n",
    "display(res1, res2)"
   ]
  },
  {
   "cell_type": "markdown",
   "metadata": {},
   "source": [
    "## Continue"
   ]
  },
  {
   "cell_type": "code",
   "execution_count": 2,
   "metadata": {},
   "outputs": [
    {
     "name": "stdout",
     "output_type": "stream",
     "text": [
      "Loaded as API: https://flag-celebration-manually-pan.trycloudflare.com/ ✔\n"
     ]
    },
    {
     "data": {
      "text/plain": [
       "'yoisaki kanade, 1girl, elbow gloves, headphones, sex toy, blue eyes, vibrator, hairband, silver hair, anal object insertion, open mouth, bare shoulders, from above, checkered floor, black legwear, black gloves, small breasts, sitting, looking up, looking at viewer, cum, very long hair, black thighhighs, vibrator under clothes, black leotard, halterneck, thigh gap, hair between eyes, covered nipples, cameltoe, black footwear, arm support, shiny clothes, buckle, projectdiva, r-18, heavenly ass, long gloves, latex, blue hair, butt plug, knee boots, leotard aside, on floor, pigeon-toed, pussy juice, skin tight'"
      ]
     },
     "execution_count": 2,
     "metadata": {},
     "output_type": "execute_result"
    }
   ],
   "source": [
    "import os\n",
    "import json\n",
    "\n",
    "def get_gradio_response_node(code_str:str, overrides:str):\n",
    "    \"\"\"\n",
    "    :param overrides: json string\n",
    "    \"\"\"\n",
    "    url, args = gradio_parser(code_str)\n",
    "\n",
    "    try:\n",
    "        override_args = json.loads(overrides)\n",
    "    except json.JSONDecodeError:\n",
    "        print(\"Invalid json string\")\n",
    "        override_args = {}\n",
    "\n",
    "    raw_res = gradio_caller(url, args, override_args)\n",
    "\n",
    "    if isinstance(raw_res, str) and os.path.isfile(raw_res):\n",
    "        return ub.loads(raw_res)\n",
    "    else:\n",
    "        return raw_res\n",
    "\n",
    "code_str = \"\"\"from gradio_client import Client\n",
    "\n",
    "client = Client(\"https://flag-celebration-manually-pan.trycloudflare.com/\")\n",
    "result = client.predict(\n",
    "\t\tcharacter=\"Hello!!\",\n",
    "\t\tgeneral=\"Hello!!\",\n",
    "\t\trating=\"general\",\n",
    "\t\tbatch_size=1,\n",
    "\t\tapi_name=\"/demo_gpt2_prompt_upscaler\"\n",
    ")\n",
    "print(result)\"\"\"\n",
    "    \n",
    "overrides = {'character': \"yoisaki kanade\", 'general': 'elbow gloves', 'rating': 'explicit'}\n",
    "overrides_str = json.dumps(overrides)\n",
    "\n",
    "get_gradio_response_node(code_str, overrides_str)"
   ]
  },
  {
   "cell_type": "markdown",
   "metadata": {},
   "source": [
    "## testing gradio llm node"
   ]
  },
  {
   "cell_type": "code",
   "execution_count": 7,
   "metadata": {},
   "outputs": [
    {
     "name": "stdout",
     "output_type": "stream",
     "text": [
      "Loaded as API: https://moved-involved-yale-checkout.trycloudflare.com/ ✔\n"
     ]
    },
    {
     "data": {
      "text/plain": [
       "([['<img src=\"data:image/jpeg;base64,/9j/4AAQSkZJRgABAQAAAQABAAD/2wBDAAgGBgcGBQgHBwcJCQgKDBQNDAsLDBkSEw8UHRofHh0aHBwgJC4nICIsIxwcKDcpLDAxNDQ0Hyc5PTgyPC4zNDL/2wBDAQkJCQwLDBgNDRgyIRwhMjIyMjIyMjIyMjIyMjIyMjIyMjIyMjIyMjIyMjIyMjIyMjIyMjIyMjIyMjIyMjIyMjL/wAARCABEAD0DASIAAhEBAxEB/8QAHwAAAQUBAQEBAQEAAAAAAAAAAAECAwQFBgcICQoL/8QAtRAAAgEDAwIEAwUFBAQAAAF9AQIDAAQRBRIhMUEGE1FhByJxFDKBkaEII0KxwRVS0fAkM2JyggkKFhcYGRolJicoKSo0NTY3ODk6Q0RFRkdISUpTVFVWV1hZWmNkZWZnaGlqc3R1dnd4eXqDhIWGh4iJipKTlJWWl5iZmqKjpKWmp6ipqrKztLW2t7i5usLDxMXGx8jJytLT1NXW19jZ2uHi4+Tl5ufo6erx8vP09fb3+Pn6/8QAHwEAAwEBAQEBAQEBAQAAAAAAAAECAwQFBgcICQoL/8QAtREAAgECBAQDBAcFBAQAAQJ3AAECAxEEBSExBhJBUQdhcRMiMoEIFEKRobHBCSMzUvAVYnLRChYkNOEl8RcYGRomJygpKjU2Nzg5OkNERUZHSElKU1RVVldYWVpjZGVmZ2hpanN0dXZ3eHl6goOEhYaHiImKkpOUlZaXmJmaoqOkpaanqKmqsrO0tba3uLm6wsPExcbHyMnK0tPU1dbX2Nna4uPk5ebn6Onq8vP09fb3+Pn6/9oADAMBAAIRAxEAPwD3+ikZlRSzEBQMkk8CuX1fxpa2m6KwAuZRxv8A4B/j+H51Mpxirs3oYarXly01c6We4htYWmnlSONerOcCuP1fxwBui0tM9vPkH8h/j+Vcnf6neanN5t3M0h7L0VfoKqVx1MS3pHQ+iwmTU6fvVvefbp/wTpNN8Z6haPtusXURPO7hh9D/AI12mma/p+rAC3mAl7xPw35d/wAK8npQSpBBII5BFTCvKO+pvicpoVtYrlfl/ke1UV5vpfjG/sdsdz/pUI/vn5x9G7/jXcaRrVlrds81nIW8ttkinqjYzg/gRXXCrGex87isvrYbWSuu6PKvGnjG7h8V32l3TMbKB1CLHxjKg8jvyap213Bdx74JVcd8dR9R2rU1KwtL7xn4kS6t45R5sQ+Ycj5B0PUVzuoeDp7aT7RpE7Ajny2bDfgf8axlgcTOHt4e8nfTqrNo9GjxVkuHxX9mYh+xnFQ95/BJyjGWr6PXrp5mpRXOw67c2U32fVLd1YfxbcN+I7/hWs2rWC2v2hrqMReuefpjrmuFSV7dT6mVKSiprWL2a1T9GXKpX+q2emx7rmUBscIOWP0Fc3f+Kri6k+z6XEy7uA+3Ln6DtWcmjzz6bJqdzOck8Kclm+bByTWkKc6l+RXtr9xz18RQwvK8RK12kl1bexau/EOo6vOLWwRolfgBD8zfU9q9a+DdrLZaHqlvMQZFvAWwc9Y0P9a4L7JBaahYxwRLGoWToPYV6T8MGVrbWipBH21Rkf8AXJK9P6ksOuaTvK9vLa58fWz95jenThy0+Tm878/Lq9tun4nGeIdfGi/ELW1khMkMske7afmXCDkevWtiw1Wy1OPfazq5AyV6Mv1FcX8RP+R91b/rov8A6Atc3FNJBIskMjRuvRlOCK5cNm9XCzdNq8bv13O7OPD3A55ShiYT9nXcI67qVopar7ldNeaZ65eWNrfw+VdQJKvbcOR9D2rznXPD0Fv4ltdPilcQzIZMnkqOcj/x2tLS/G1xDtj1CPz0/wCeicOPw6H9Kra5rVhP4p0++jmLW6QFWbacg/Nxj8RXo4nE4LFxjNWvdXvo7dfkfLZDknEvD2KrYWfM6Tpza5feg5Je60ujb2uk35kuk2MFhql7FCp2qkWCxyed2f5VSur+2h8OGEyqZmY7UByf9Zn8KzL3xBM97cy2RMSTBVJIG7Az+XU1i1zVsfCEXTor+ZeWr6fI+nwPDeIxFVYrHTd/3crbu8I2d+2r6fgamqa5cajMjKPIRAQoRjnnrk17F8Dv+RY1H/r8/wDZFrxSxt9SnW9k0q0tbiSys5b24N0AUSFB82AerHPH0/EfQXwu8P3Wg+Hbg3Kxqt5P9ogVH3ERlRtyfXArnp+1qVFVm73OrMJ4PD4WWBw8eXkt+d/V+d+5zfxX8K3l9q1hf6PaRIzErfSyZCuDt2tkdxgjpzkelefaj4fvtOy5j82Ef8tI+QPqO1fTpAZSrAEHgg96wdR8KWd3l7b/AEaU9lGVP4dvwpYjCKo+ZbnPl+e18MlCTvFbeXo+npqvI+a6rXYJMYHU5r1nxD4D2MzywGBj0nhGUb6j/wDUa8813wtqdtp95MgR44YJH3q3J47DrmvPVCcZpM+ujnWFq4adTm962zt06Luc9HJBOpNtcJPhtrbAeD+I5z2Psa6fSPBt5e7ZbzNrAecEfO34dvx/Kus8D6Tb+KdTvda0PRRY6U0dvb27SxBOYkIdxjPOWxkZJxz3r1rTPDVnYYkkH2icfxOOB9BXb9VvNpbHzMuIKnsUre8eSR/CjV9QvYn0i/Ol6XcWxtNQMmS88O7cQoxzn8B9ele0aXpkGk2a21uXKL/ebP5DoPwq7RXbCCikux89VqyqScpdQoooqzIQgMpVgCDwQe9ZTeG9Le7Fwbce8YPyE+uP8iiipkk9y4yavZmpHGkUaxxoqIowqqMAD2FOooqiAooooA//2Q==\" alt=\"user upload image\" />give me a detailed and unique prompt in danbooru tags format: 1girl, long hair,',\n",
       "   None]],\n",
       " '',\n",
       " None)"
      ]
     },
     "execution_count": 7,
     "metadata": {},
     "output_type": "execute_result"
    }
   ],
   "source": [
    "from gradio_client import Client, file, handle_file\n",
    "\n",
    "client = Client(\"https://moved-involved-yale-checkout.trycloudflare.com/\")\n",
    "\n",
    "res1 = client.predict(\n",
    "  text=\"give me a detailed and unique prompt in danbooru tags format: 1girl, long hair,\",\n",
    "  image=handle_file('https://raw.githubusercontent.com/gradio-app/gradio/main/test/test_files/bus.png'),\n",
    "  image_process_mode=\"Default\",\n",
    "  api_name=\"/add_text_1\"\n",
    ")\n",
    "\n",
    "res1"
   ]
  },
  {
   "cell_type": "code",
   "execution_count": null,
   "metadata": {},
   "outputs": [],
   "source": [
    "from gradio_client import Client, file, handle_file\n",
    "\n",
    "client = Client(\"https://61fd9578add1fc437d.gradio.live/\")\n"
   ]
  },
  {
   "cell_type": "code",
   "execution_count": 16,
   "metadata": {},
   "outputs": [
    {
     "ename": "AppError",
     "evalue": "The upstream Gradio app has raised an exception but has not enabled verbose error reporting. To enable, set show_error=True in launch().",
     "output_type": "error",
     "traceback": [
      "\u001b[0;31m---------------------------------------------------------------------------\u001b[0m",
      "\u001b[0;31mAppError\u001b[0m                                  Traceback (most recent call last)",
      "Cell \u001b[0;32mIn[16], line 7\u001b[0m\n\u001b[1;32m      1\u001b[0m fake_handle \u001b[38;5;241m=\u001b[39m {\u001b[38;5;124m'\u001b[39m\u001b[38;5;124mpath\u001b[39m\u001b[38;5;124m'\u001b[39m: \u001b[38;5;28;01mNone\u001b[39;00m,\n\u001b[1;32m      2\u001b[0m  \u001b[38;5;124m'\u001b[39m\u001b[38;5;124mmeta\u001b[39m\u001b[38;5;124m'\u001b[39m: {\u001b[38;5;124m'\u001b[39m\u001b[38;5;124m_type\u001b[39m\u001b[38;5;124m'\u001b[39m: \u001b[38;5;124m'\u001b[39m\u001b[38;5;124mgradio.FileData\u001b[39m\u001b[38;5;124m'\u001b[39m},\n\u001b[1;32m      3\u001b[0m  \u001b[38;5;124m'\u001b[39m\u001b[38;5;124morig_name\u001b[39m\u001b[38;5;124m'\u001b[39m: \u001b[38;5;28;01mNone\u001b[39;00m,\n\u001b[1;32m      4\u001b[0m  \u001b[38;5;124m'\u001b[39m\u001b[38;5;124murl\u001b[39m\u001b[38;5;124m'\u001b[39m: \u001b[38;5;28;01mNone\u001b[39;00m}\n\u001b[0;32m----> 7\u001b[0m res1 \u001b[38;5;241m=\u001b[39m \u001b[43mclient\u001b[49m\u001b[38;5;241;43m.\u001b[39;49m\u001b[43mpredict\u001b[49m\u001b[43m(\u001b[49m\n\u001b[1;32m      8\u001b[0m \u001b[43m  \u001b[49m\u001b[43mtext\u001b[49m\u001b[38;5;241;43m=\u001b[39;49m\u001b[38;5;124;43m\"\u001b[39;49m\u001b[38;5;124;43mgive me a detailed and unique prompt in danbooru tags format: 1girl, long hair,\u001b[39;49m\u001b[38;5;124;43m\"\u001b[39;49m\u001b[43m,\u001b[49m\n\u001b[1;32m      9\u001b[0m \u001b[43m  \u001b[49m\u001b[43mimage\u001b[49m\u001b[38;5;241;43m=\u001b[39;49m\u001b[43mfake_handle\u001b[49m\u001b[43m,\u001b[49m\n\u001b[1;32m     10\u001b[0m \u001b[43m  \u001b[49m\u001b[43mimage_process_mode\u001b[49m\u001b[38;5;241;43m=\u001b[39;49m\u001b[38;5;124;43m\"\u001b[39;49m\u001b[38;5;124;43mDefault\u001b[39;49m\u001b[38;5;124;43m\"\u001b[39;49m\u001b[43m,\u001b[49m\n\u001b[1;32m     11\u001b[0m \u001b[43m  \u001b[49m\u001b[43mapi_name\u001b[49m\u001b[38;5;241;43m=\u001b[39;49m\u001b[38;5;124;43m\"\u001b[39;49m\u001b[38;5;124;43m/add_text_1\u001b[39;49m\u001b[38;5;124;43m\"\u001b[39;49m\n\u001b[1;32m     12\u001b[0m \u001b[43m)\u001b[49m\n\u001b[1;32m     14\u001b[0m res1\n",
      "File \u001b[0;32m~/miniconda3/lib/python3.10/site-packages/gradio_client/client.py:459\u001b[0m, in \u001b[0;36mClient.predict\u001b[0;34m(self, api_name, fn_index, *args, **kwargs)\u001b[0m\n\u001b[1;32m    441\u001b[0m \u001b[38;5;250m\u001b[39m\u001b[38;5;124;03m\"\"\"\u001b[39;00m\n\u001b[1;32m    442\u001b[0m \u001b[38;5;124;03mCalls the Gradio API and returns the result (this is a blocking call).\u001b[39;00m\n\u001b[1;32m    443\u001b[0m \n\u001b[0;32m   (...)\u001b[0m\n\u001b[1;32m    454\u001b[0m \u001b[38;5;124;03m    >> 9.0\u001b[39;00m\n\u001b[1;32m    455\u001b[0m \u001b[38;5;124;03m\"\"\"\u001b[39;00m\n\u001b[1;32m    456\u001b[0m \u001b[38;5;28mself\u001b[39m\u001b[38;5;241m.\u001b[39m_infer_fn_index(api_name, fn_index)\n\u001b[1;32m    457\u001b[0m \u001b[38;5;28;01mreturn\u001b[39;00m \u001b[38;5;28;43mself\u001b[39;49m\u001b[38;5;241;43m.\u001b[39;49m\u001b[43msubmit\u001b[49m\u001b[43m(\u001b[49m\n\u001b[1;32m    458\u001b[0m \u001b[43m    \u001b[49m\u001b[38;5;241;43m*\u001b[39;49m\u001b[43margs\u001b[49m\u001b[43m,\u001b[49m\u001b[43m \u001b[49m\u001b[43mapi_name\u001b[49m\u001b[38;5;241;43m=\u001b[39;49m\u001b[43mapi_name\u001b[49m\u001b[43m,\u001b[49m\u001b[43m \u001b[49m\u001b[43mfn_index\u001b[49m\u001b[38;5;241;43m=\u001b[39;49m\u001b[43mfn_index\u001b[49m\u001b[43m,\u001b[49m\u001b[43m \u001b[49m\u001b[38;5;241;43m*\u001b[39;49m\u001b[38;5;241;43m*\u001b[39;49m\u001b[43mkwargs\u001b[49m\n\u001b[0;32m--> 459\u001b[0m \u001b[43m\u001b[49m\u001b[43m)\u001b[49m\u001b[38;5;241;43m.\u001b[39;49m\u001b[43mresult\u001b[49m\u001b[43m(\u001b[49m\u001b[43m)\u001b[49m\n",
      "File \u001b[0;32m~/miniconda3/lib/python3.10/site-packages/gradio_client/client.py:1480\u001b[0m, in \u001b[0;36mJob.result\u001b[0;34m(self, timeout)\u001b[0m\n\u001b[1;32m   1465\u001b[0m \u001b[38;5;28;01mdef\u001b[39;00m \u001b[38;5;21mresult\u001b[39m(\u001b[38;5;28mself\u001b[39m, timeout: \u001b[38;5;28mfloat\u001b[39m \u001b[38;5;241m|\u001b[39m \u001b[38;5;28;01mNone\u001b[39;00m \u001b[38;5;241m=\u001b[39m \u001b[38;5;28;01mNone\u001b[39;00m) \u001b[38;5;241m-\u001b[39m\u001b[38;5;241m>\u001b[39m Any:\n\u001b[1;32m   1466\u001b[0m \u001b[38;5;250m    \u001b[39m\u001b[38;5;124;03m\"\"\"\u001b[39;00m\n\u001b[1;32m   1467\u001b[0m \u001b[38;5;124;03m    Return the result of the call that the future represents. Raises CancelledError: If the future was cancelled, TimeoutError: If the future didn't finish executing before the given timeout, and Exception: If the call raised then that exception will be raised.\u001b[39;00m\n\u001b[1;32m   1468\u001b[0m \n\u001b[0;32m   (...)\u001b[0m\n\u001b[1;32m   1478\u001b[0m \u001b[38;5;124;03m        >> 9\u001b[39;00m\n\u001b[1;32m   1479\u001b[0m \u001b[38;5;124;03m    \"\"\"\u001b[39;00m\n\u001b[0;32m-> 1480\u001b[0m     \u001b[38;5;28;01mreturn\u001b[39;00m \u001b[38;5;28;43msuper\u001b[39;49m\u001b[43m(\u001b[49m\u001b[43m)\u001b[49m\u001b[38;5;241;43m.\u001b[39;49m\u001b[43mresult\u001b[49m\u001b[43m(\u001b[49m\u001b[43mtimeout\u001b[49m\u001b[38;5;241;43m=\u001b[39;49m\u001b[43mtimeout\u001b[49m\u001b[43m)\u001b[49m\n",
      "File \u001b[0;32m~/miniconda3/lib/python3.10/concurrent/futures/_base.py:458\u001b[0m, in \u001b[0;36mFuture.result\u001b[0;34m(self, timeout)\u001b[0m\n\u001b[1;32m    456\u001b[0m     \u001b[38;5;28;01mraise\u001b[39;00m CancelledError()\n\u001b[1;32m    457\u001b[0m \u001b[38;5;28;01melif\u001b[39;00m \u001b[38;5;28mself\u001b[39m\u001b[38;5;241m.\u001b[39m_state \u001b[38;5;241m==\u001b[39m FINISHED:\n\u001b[0;32m--> 458\u001b[0m     \u001b[38;5;28;01mreturn\u001b[39;00m \u001b[38;5;28;43mself\u001b[39;49m\u001b[38;5;241;43m.\u001b[39;49m\u001b[43m__get_result\u001b[49m\u001b[43m(\u001b[49m\u001b[43m)\u001b[49m\n\u001b[1;32m    459\u001b[0m \u001b[38;5;28;01melse\u001b[39;00m:\n\u001b[1;32m    460\u001b[0m     \u001b[38;5;28;01mraise\u001b[39;00m \u001b[38;5;167;01mTimeoutError\u001b[39;00m()\n",
      "File \u001b[0;32m~/miniconda3/lib/python3.10/concurrent/futures/_base.py:403\u001b[0m, in \u001b[0;36mFuture.__get_result\u001b[0;34m(self)\u001b[0m\n\u001b[1;32m    401\u001b[0m \u001b[38;5;28;01mif\u001b[39;00m \u001b[38;5;28mself\u001b[39m\u001b[38;5;241m.\u001b[39m_exception:\n\u001b[1;32m    402\u001b[0m     \u001b[38;5;28;01mtry\u001b[39;00m:\n\u001b[0;32m--> 403\u001b[0m         \u001b[38;5;28;01mraise\u001b[39;00m \u001b[38;5;28mself\u001b[39m\u001b[38;5;241m.\u001b[39m_exception\n\u001b[1;32m    404\u001b[0m     \u001b[38;5;28;01mfinally\u001b[39;00m:\n\u001b[1;32m    405\u001b[0m         \u001b[38;5;66;03m# Break a reference cycle with the exception in self._exception\u001b[39;00m\n\u001b[1;32m    406\u001b[0m         \u001b[38;5;28mself\u001b[39m \u001b[38;5;241m=\u001b[39m \u001b[38;5;28;01mNone\u001b[39;00m\n",
      "File \u001b[0;32m~/miniconda3/lib/python3.10/concurrent/futures/thread.py:58\u001b[0m, in \u001b[0;36m_WorkItem.run\u001b[0;34m(self)\u001b[0m\n\u001b[1;32m     55\u001b[0m     \u001b[38;5;28;01mreturn\u001b[39;00m\n\u001b[1;32m     57\u001b[0m \u001b[38;5;28;01mtry\u001b[39;00m:\n\u001b[0;32m---> 58\u001b[0m     result \u001b[38;5;241m=\u001b[39m \u001b[38;5;28;43mself\u001b[39;49m\u001b[38;5;241;43m.\u001b[39;49m\u001b[43mfn\u001b[49m\u001b[43m(\u001b[49m\u001b[38;5;241;43m*\u001b[39;49m\u001b[38;5;28;43mself\u001b[39;49m\u001b[38;5;241;43m.\u001b[39;49m\u001b[43margs\u001b[49m\u001b[43m,\u001b[49m\u001b[43m \u001b[49m\u001b[38;5;241;43m*\u001b[39;49m\u001b[38;5;241;43m*\u001b[39;49m\u001b[38;5;28;43mself\u001b[39;49m\u001b[38;5;241;43m.\u001b[39;49m\u001b[43mkwargs\u001b[49m\u001b[43m)\u001b[49m\n\u001b[1;32m     59\u001b[0m \u001b[38;5;28;01mexcept\u001b[39;00m \u001b[38;5;167;01mBaseException\u001b[39;00m \u001b[38;5;28;01mas\u001b[39;00m exc:\n\u001b[1;32m     60\u001b[0m     \u001b[38;5;28mself\u001b[39m\u001b[38;5;241m.\u001b[39mfuture\u001b[38;5;241m.\u001b[39mset_exception(exc)\n",
      "File \u001b[0;32m~/miniconda3/lib/python3.10/site-packages/gradio_client/client.py:1107\u001b[0m, in \u001b[0;36mEndpoint.make_end_to_end_fn.<locals>._inner\u001b[0;34m(*data)\u001b[0m\n\u001b[1;32m   1105\u001b[0m data \u001b[38;5;241m=\u001b[39m \u001b[38;5;28mself\u001b[39m\u001b[38;5;241m.\u001b[39minsert_empty_state(\u001b[38;5;241m*\u001b[39mdata)\n\u001b[1;32m   1106\u001b[0m data \u001b[38;5;241m=\u001b[39m \u001b[38;5;28mself\u001b[39m\u001b[38;5;241m.\u001b[39mprocess_input_files(\u001b[38;5;241m*\u001b[39mdata)\n\u001b[0;32m-> 1107\u001b[0m predictions \u001b[38;5;241m=\u001b[39m \u001b[43m_predict\u001b[49m\u001b[43m(\u001b[49m\u001b[38;5;241;43m*\u001b[39;49m\u001b[43mdata\u001b[49m\u001b[43m)\u001b[49m\n\u001b[1;32m   1108\u001b[0m predictions \u001b[38;5;241m=\u001b[39m \u001b[38;5;28mself\u001b[39m\u001b[38;5;241m.\u001b[39mprocess_predictions(\u001b[38;5;241m*\u001b[39mpredictions)\n\u001b[1;32m   1110\u001b[0m \u001b[38;5;66;03m# Append final output only if not already present\u001b[39;00m\n\u001b[1;32m   1111\u001b[0m \u001b[38;5;66;03m# for consistency between generators and not generators\u001b[39;00m\n",
      "File \u001b[0;32m~/miniconda3/lib/python3.10/site-packages/gradio_client/client.py:1218\u001b[0m, in \u001b[0;36mEndpoint.make_predict.<locals>._predict\u001b[0;34m(*data)\u001b[0m\n\u001b[1;32m   1216\u001b[0m \u001b[38;5;28;01mif\u001b[39;00m \u001b[38;5;124m\"\u001b[39m\u001b[38;5;124merror\u001b[39m\u001b[38;5;124m\"\u001b[39m \u001b[38;5;129;01min\u001b[39;00m result:\n\u001b[1;32m   1217\u001b[0m     \u001b[38;5;28;01mif\u001b[39;00m result[\u001b[38;5;124m\"\u001b[39m\u001b[38;5;124merror\u001b[39m\u001b[38;5;124m\"\u001b[39m] \u001b[38;5;129;01mis\u001b[39;00m \u001b[38;5;28;01mNone\u001b[39;00m:\n\u001b[0;32m-> 1218\u001b[0m         \u001b[38;5;28;01mraise\u001b[39;00m AppError(\n\u001b[1;32m   1219\u001b[0m             \u001b[38;5;124m\"\u001b[39m\u001b[38;5;124mThe upstream Gradio app has raised an exception but has not enabled \u001b[39m\u001b[38;5;124m\"\u001b[39m\n\u001b[1;32m   1220\u001b[0m             \u001b[38;5;124m\"\u001b[39m\u001b[38;5;124mverbose error reporting. To enable, set show_error=True in launch().\u001b[39m\u001b[38;5;124m\"\u001b[39m\n\u001b[1;32m   1221\u001b[0m         )\n\u001b[1;32m   1222\u001b[0m     \u001b[38;5;28;01melse\u001b[39;00m:\n\u001b[1;32m   1223\u001b[0m         \u001b[38;5;28;01mraise\u001b[39;00m AppError(\n\u001b[1;32m   1224\u001b[0m             \u001b[38;5;124m\"\u001b[39m\u001b[38;5;124mThe upstream Gradio app has raised an exception: \u001b[39m\u001b[38;5;124m\"\u001b[39m\n\u001b[1;32m   1225\u001b[0m             \u001b[38;5;241m+\u001b[39m result[\u001b[38;5;124m\"\u001b[39m\u001b[38;5;124merror\u001b[39m\u001b[38;5;124m\"\u001b[39m]\n\u001b[1;32m   1226\u001b[0m         )\n",
      "\u001b[0;31mAppError\u001b[0m: The upstream Gradio app has raised an exception but has not enabled verbose error reporting. To enable, set show_error=True in launch()."
     ]
    }
   ],
   "source": [
    "fake_handle = {'path': None,\n",
    " 'meta': {'_type': 'gradio.FileData'},\n",
    " 'orig_name': None,\n",
    " 'url': None}\n",
    "\n",
    "\n",
    "res1 = client.predict(\n",
    "  text=\"give me a detailed and unique prompt in danbooru tags format: 1girl, long hair,\",\n",
    "  image=fake_handle,\n",
    "  image_process_mode=\"Default\",\n",
    "  api_name=\"/add_text_1\"\n",
    ")\n",
    "\n",
    "res1"
   ]
  },
  {
   "cell_type": "code",
   "execution_count": 12,
   "metadata": {},
   "outputs": [
    {
     "data": {
      "text/plain": [
       "{'path': 'https://raw.githubusercontent.com/gradio-app/gradio/main/test/test_files/bus.png',\n",
       " 'meta': {'_type': 'gradio.FileData'},\n",
       " 'orig_name': 'bus.png',\n",
       " 'url': 'https://raw.githubusercontent.com/gradio-app/gradio/main/test/test_files/bus.png'}"
      ]
     },
     "execution_count": 12,
     "metadata": {},
     "output_type": "execute_result"
    }
   ],
   "source": [
    "f1 = handle_file('https://raw.githubusercontent.com/gradio-app/gradio/main/test/test_files/bus.png')\n",
    "f1"
   ]
  },
  {
   "cell_type": "code",
   "execution_count": null,
   "metadata": {},
   "outputs": [],
   "source": []
  },
  {
   "cell_type": "code",
   "execution_count": null,
   "metadata": {},
   "outputs": [],
   "source": []
  },
  {
   "cell_type": "code",
   "execution_count": 9,
   "metadata": {},
   "outputs": [],
   "source": [
    "res2 = client.predict(\n",
    "\t\tmodel_selector=\"captioner-1.4-llava-v1.6-llama3.1-CLIP-8b-ft-1\",\n",
    "\t\ttemperature=0.2,\n",
    "\t\ttop_p=0.7,\n",
    "\t\tmax_new_tokens=512,\n",
    "\t\tapi_name=\"/http_bot_2\"\n",
    ")\n",
    "\n",
    "res2"
   ]
  },
  {
   "cell_type": "code",
   "execution_count": 11,
   "metadata": {},
   "outputs": [
    {
     "data": {
      "text/plain": [
       "([], '', None)"
      ]
     },
     "execution_count": 11,
     "metadata": {},
     "output_type": "execute_result"
    }
   ],
   "source": [
    "res3 = client.predict(\n",
    "  api_name=\"/clear_history\"\n",
    ")\n",
    "\n",
    "res3"
   ]
  }
 ],
 "metadata": {
  "kernelspec": {
   "display_name": "base",
   "language": "python",
   "name": "python3"
  },
  "language_info": {
   "codemirror_mode": {
    "name": "ipython",
    "version": 3
   },
   "file_extension": ".py",
   "mimetype": "text/x-python",
   "name": "python",
   "nbconvert_exporter": "python",
   "pygments_lexer": "ipython3",
   "version": "3.10.13"
  }
 },
 "nbformat": 4,
 "nbformat_minor": 2
}
