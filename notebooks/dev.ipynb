{
 "cells": [
  {
   "cell_type": "code",
   "execution_count": 1,
   "metadata": {},
   "outputs": [],
   "source": [
    "import unibox as ub\n",
    "from tr_core.utils import StringConverter\n",
    "from PIL import Image\n",
    "\n",
    "logger = ub.UniLogger()"
   ]
  },
  {
   "cell_type": "markdown",
   "metadata": {},
   "source": [
    "## NAI convert"
   ]
  },
  {
   "cell_type": "code",
   "execution_count": 8,
   "metadata": {},
   "outputs": [
    {
     "name": "stdout",
     "output_type": "stream",
     "text": [
      "{1girl:1.05}, yusa kozue,{fukuro_daizi:1.05},{tsubasa_tsubasa:1.05},[naga_u,kani_biimu,henreader]\n"
     ]
    }
   ],
   "source": [
    "import sys, re\n",
    "\n",
    "def convert(s: str) -> str:\n",
    "    def replace_weights(match, factor):\n",
    "        word = match.group(0)\n",
    "        count = word.count(word[0])  # Count the number of opening braces/brackets/parentheses\n",
    "        inner_word = word[count:-count]  # Extract the content within the braces/brackets/parentheses\n",
    "        return f'{word[0]}{inner_word}:{round(factor**count, 6)}{word[-1]}'\n",
    "\n",
    "    # First, handle curly braces\n",
    "    s = re.sub(r'\\{+[^{}]+\\}+', lambda m: replace_weights(m, 1.05), s)\n",
    "\n",
    "    # Next, handle parentheses\n",
    "    s = re.sub(r'\\(+[^()]+\\)+', lambda m: replace_weights(m, 1.1), s)\n",
    "\n",
    "    # Finally, handle square brackets\n",
    "    s = re.sub(r'\\[+[^[]]+\\]+', lambda m: replace_weights(m, 1.2), s)\n",
    "\n",
    "    return s\n",
    "\n",
    "\n",
    "result = convert(\"{1girl}, yusa kozue,{fukuro_daizi},{tsubasa_tsubasa},[naga_u,kani_biimu,henreader]\")\n",
    "print(result)"
   ]
  },
  {
   "cell_type": "code",
   "execution_count": 4,
   "metadata": {},
   "outputs": [
    {
     "data": {
      "text/plain": [
       "int"
      ]
     },
     "execution_count": 4,
     "metadata": {},
     "output_type": "execute_result"
    }
   ],
   "source": [
    "converter = StringConverter()\n",
    "\n",
    "type(converter(\"2\"))"
   ]
  },
  {
   "cell_type": "markdown",
   "metadata": {},
   "source": [
    "## Workflow"
   ]
  },
  {
   "cell_type": "code",
   "execution_count": 1,
   "metadata": {},
   "outputs": [
    {
     "name": "stderr",
     "output_type": "stream",
     "text": [
      "2024-08-28 01:34:45,393 [INFO] UniLogger: UniLoader.loads: .json LOADED from \"/rmt/yada/dev/tr-core/data/vpred_api_default_workflow_api.json\" in 0.00s\n"
     ]
    },
    {
     "name": "stdout",
     "output_type": "stream",
     "text": [
      "Running on local URL:  http://127.0.0.1:7861\n",
      "Running on public URL: https://96014e9cafd998c01e.gradio.live\n",
      "\n",
      "This share link expires in 72 hours. For free permanent hosting and GPU upgrades, run `gradio deploy` from Terminal to deploy to Spaces (https://huggingface.co/spaces)\n"
     ]
    },
    {
     "data": {
      "text/html": [
       "<div><iframe src=\"https://96014e9cafd998c01e.gradio.live\" width=\"100%\" height=\"500\" allow=\"autoplay; camera; microphone; clipboard-read; clipboard-write;\" frameborder=\"0\" allowfullscreen></iframe></div>"
      ],
      "text/plain": [
       "<IPython.core.display.HTML object>"
      ]
     },
     "metadata": {},
     "output_type": "display_data"
    },
    {
     "data": {
      "text/plain": []
     },
     "execution_count": 1,
     "metadata": {},
     "output_type": "execute_result"
    }
   ],
   "source": [
    "import unibox as ub\n",
    "from tr_core.utils import workflow_to_iface\n",
    "\n",
    "raw_workflow = ub.loads(\"/rmt/yada/dev/tr-core/data/vpred_api_default_workflow_api.json\")\n",
    "iface = workflow_to_iface(raw_workflow, hidden_params=['api_cfg', 'api_sampler_name'])\n",
    "\n",
    "# Running the demo\n",
    "iface.launch(share=True)"
   ]
  }
 ],
 "metadata": {
  "kernelspec": {
   "display_name": "base",
   "language": "python",
   "name": "python3"
  },
  "language_info": {
   "codemirror_mode": {
    "name": "ipython",
    "version": 3
   },
   "file_extension": ".py",
   "mimetype": "text/x-python",
   "name": "python",
   "nbconvert_exporter": "python",
   "pygments_lexer": "ipython3",
   "version": "3.10.13"
  }
 },
 "nbformat": 4,
 "nbformat_minor": 2
}
