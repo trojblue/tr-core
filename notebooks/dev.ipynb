{
 "cells": [
  {
   "cell_type": "code",
   "execution_count": 1,
   "metadata": {},
   "outputs": [],
   "source": [
    "import unibox as ub\n",
    "from tr_core.utils import StringConverter\n",
    "from PIL import Image\n",
    "\n",
    "logger = ub.UniLogger()"
   ]
  },
  {
   "cell_type": "markdown",
   "metadata": {},
   "source": [
    "## NAI convert"
   ]
  },
  {
   "cell_type": "code",
   "execution_count": 8,
   "metadata": {},
   "outputs": [
    {
     "name": "stdout",
     "output_type": "stream",
     "text": [
      "{1girl:1.05}, yusa kozue,{fukuro_daizi:1.05},{tsubasa_tsubasa:1.05},[naga_u,kani_biimu,henreader]\n"
     ]
    }
   ],
   "source": [
    "import sys, re\n",
    "\n",
    "def convert(s: str) -> str:\n",
    "    def replace_weights(match, factor):\n",
    "        word = match.group(0)\n",
    "        count = word.count(word[0])  # Count the number of opening braces/brackets/parentheses\n",
    "        inner_word = word[count:-count]  # Extract the content within the braces/brackets/parentheses\n",
    "        return f'{word[0]}{inner_word}:{round(factor**count, 6)}{word[-1]}'\n",
    "\n",
    "    # First, handle curly braces\n",
    "    s = re.sub(r'\\{+[^{}]+\\}+', lambda m: replace_weights(m, 1.05), s)\n",
    "\n",
    "    # Next, handle parentheses\n",
    "    s = re.sub(r'\\(+[^()]+\\)+', lambda m: replace_weights(m, 1.1), s)\n",
    "\n",
    "    # Finally, handle square brackets\n",
    "    s = re.sub(r'\\[+[^[]]+\\]+', lambda m: replace_weights(m, 1.2), s)\n",
    "\n",
    "    return s\n",
    "\n",
    "\n",
    "result = convert(\"{1girl}, yusa kozue,{fukuro_daizi},{tsubasa_tsubasa},[naga_u,kani_biimu,henreader]\")\n",
    "print(result)"
   ]
  },
  {
   "cell_type": "code",
   "execution_count": 4,
   "metadata": {},
   "outputs": [
    {
     "data": {
      "text/plain": [
       "int"
      ]
     },
     "execution_count": 4,
     "metadata": {},
     "output_type": "execute_result"
    }
   ],
   "source": [
    "converter = StringConverter()\n",
    "\n",
    "type(converter(\"2\"))"
   ]
  },
  {
   "cell_type": "markdown",
   "metadata": {},
   "source": [
    "## Workflow"
   ]
  },
  {
   "cell_type": "code",
   "execution_count": 1,
   "metadata": {},
   "outputs": [
    {
     "name": "stderr",
     "output_type": "stream",
     "text": [
      "2024-08-28 06:53:55,170 [INFO] UniLogger: UniLoader.loads: .json LOADED from \"/rmt/yada/dev/training-flow/data/latent_upscale_workflow_api.json\" in 0.00s\n"
     ]
    },
    {
     "name": "stdout",
     "output_type": "stream",
     "text": [
      "Running on local URL:  http://127.0.0.1:7861\n",
      "Running on public URL: https://ce667237b6739a1d20.gradio.live\n",
      "\n",
      "This share link expires in 72 hours. For free permanent hosting and GPU upgrades, run `gradio deploy` from Terminal to deploy to Spaces (https://huggingface.co/spaces)\n"
     ]
    },
    {
     "data": {
      "text/html": [
       "<div><iframe src=\"https://ce667237b6739a1d20.gradio.live\" width=\"100%\" height=\"500\" allow=\"autoplay; camera; microphone; clipboard-read; clipboard-write;\" frameborder=\"0\" allowfullscreen></iframe></div>"
      ],
      "text/plain": [
       "<IPython.core.display.HTML object>"
      ]
     },
     "metadata": {},
     "output_type": "display_data"
    }
   ],
   "source": [
    "import unibox as ub\n",
    "from tr_core.utils import workflow_to_iface\n",
    "\n",
    "title = \"SDXL Hires-fix Demo\"\n",
    "description = \"\"\"\n",
    "Drag the input boxes to make them bigger if needed;\n",
    "\n",
    "- `api_hires_switch_a`: set to a for hiresfix; b to disable hires fix\n",
    "- `api_hires_upscale_type`: can be `latent`, or `pixel`\n",
    "- `seed`: set to -1 for random seed\n",
    "- no input validation for now; very high width/height or batch size **will** hang the server\n",
    "\"\"\"\n",
    "\n",
    "\n",
    "def create_demo():\n",
    "\n",
    "    wf = ub.loads(\n",
    "        \"/rmt/yada/dev/training-flow/data/latent_upscale_workflow_api.json\")\n",
    "    iface = workflow_to_iface(wf, \n",
    "                              title=title, \n",
    "                              description=description, \n",
    "                              save_dir = \"/rmt/yada/dev/training-flow/data/inference_c53_qft_logfav96_c2_all\"\n",
    "                              )\n",
    "    iface.api_name = \"demo_sdxl_comfy_pag_hires\"\n",
    "    return iface\n",
    "\n",
    "\n",
    "if __name__ == \"__main__\":\n",
    "    demo = create_demo()\n",
    "    demo.launch(share=True)"
   ]
  },
  {
   "cell_type": "code",
   "execution_count": 3,
   "metadata": {},
   "outputs": [
    {
     "name": "stderr",
     "output_type": "stream",
     "text": [
      "2024-08-28 07:23:47,241 [INFO] UniLogger: UniLoader.loads: .json LOADED from \"/rmt/yada/dev/training-flow/data/latent_upscale_workflow_api.json\" in 0.00s\n"
     ]
    },
    {
     "name": "stdout",
     "output_type": "stream",
     "text": [
      "Running on local URL:  http://127.0.0.1:7862\n",
      "Running on public URL: https://a146e5ab7e7cfe2a99.gradio.live\n",
      "\n",
      "This share link expires in 72 hours. For free permanent hosting and GPU upgrades, run `gradio deploy` from Terminal to deploy to Spaces (https://huggingface.co/spaces)\n"
     ]
    },
    {
     "data": {
      "text/html": [
       "<div><iframe src=\"https://a146e5ab7e7cfe2a99.gradio.live\" width=\"100%\" height=\"500\" allow=\"autoplay; camera; microphone; clipboard-read; clipboard-write;\" frameborder=\"0\" allowfullscreen></iframe></div>"
      ],
      "text/plain": [
       "<IPython.core.display.HTML object>"
      ]
     },
     "metadata": {},
     "output_type": "display_data"
    },
    {
     "data": {
      "text/plain": []
     },
     "execution_count": 3,
     "metadata": {},
     "output_type": "execute_result"
    }
   ],
   "source": [
    "import unibox as ub\n",
    "from tr_core.utils import workflow_to_iface\n",
    "\n",
    "title = \"SDXL Hires-fix Demo\"\n",
    "description = \"\"\"\n",
    "Drag the input boxes to make them bigger if needed;\n",
    "\n",
    "- `api_hires_switch_a`: set to a for hiresfix; b to disable hires fix\n",
    "- `api_hires_upscale_type`: can be `latent`, or `pixel`\n",
    "- `seed`: set to -1 for random seed\n",
    "- no input validation for now; very high width/height or batch size **will** hang the server\n",
    "\"\"\"\n",
    "\n",
    "\n",
    "wf = ub.loads(\n",
    "    \"/rmt/yada/dev/training-flow/data/latent_upscale_workflow_api.json\")\n",
    "iface = workflow_to_iface(wf, \n",
    "                            title=title, \n",
    "                            description=description, \n",
    "                            save_dir = \"/rmt/dev/training-flow/data/inference_c53_qft_logfav96_c2_all\"\n",
    "                            )\n",
    "iface.launch(share=True)"
   ]
  },
  {
   "cell_type": "markdown",
   "metadata": {},
   "source": []
  },
  {
   "cell_type": "code",
   "execution_count": null,
   "metadata": {},
   "outputs": [],
   "source": []
  }
 ],
 "metadata": {
  "kernelspec": {
   "display_name": "base",
   "language": "python",
   "name": "python3"
  },
  "language_info": {
   "codemirror_mode": {
    "name": "ipython",
    "version": 3
   },
   "file_extension": ".py",
   "mimetype": "text/x-python",
   "name": "python",
   "nbconvert_exporter": "python",
   "pygments_lexer": "ipython3",
   "version": "3.10.13"
  }
 },
 "nbformat": 4,
 "nbformat_minor": 2
}
